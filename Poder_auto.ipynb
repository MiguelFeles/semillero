{
 "cells": [
  {
   "cell_type": "code",
   "execution_count": 7,
   "metadata": {},
   "outputs": [
    {
     "name": "stdout",
     "output_type": "stream",
     "text": [
      "Ingrese su nombreNicolás William\n",
      "NICOLÁS WILLIAM Rondón Feles, mayor de edad, domiciliade en la ciudad de Bogotá D.C., identificade con Cédula de \n",
      "Ciudadanía No. 1.025.036.369, y dirección de \n",
      "notificación electrónica nicoguille@me.com por medio del presente escrito, otorgo PODER ESPECIAL, AMPLIO Y SUFICIENTE a XX, mayor de edad, \n",
      "domiciliado en Bogotá D.C., identificado con Cédula de Ciudadanía No. XX, miembro activo de Consultorio Jurídico de la \n",
      "Universidad Externado de Colombia, portador del carné No. XX, para que, en mi nombre y representación, inicie y lleve \n",
      "hasta su terminación el PROCESO DE SEPARACIÓN DE BIENES contra el señor XX, mayor de edad, domiciliado en Bogotá D.C., \n",
      "identificado con Cédula de Ciudadanía XX.\n",
      "Mi apoderada queda facultada para solicitar medidas cautelares, desistir, renunciar, sustituir, recibir, transigir, \n",
      "asumir el presente poder y demás facultades en los términos del artículo 77 del Código General del Proceso.\n",
      "\n",
      "Sírvase, Señor Juez, reconocerle personería jurídica a mi apoderada, en los términos y para los efectos del presente poder.\n",
      " \n",
      "Señor Juez,\n",
      "\n",
      "NICOLÁS WILLIAM Rondón Feles\n",
      "C.C. No. 1.025.036.369\n",
      "\n",
      "\n",
      "Acepto, \n",
      "\n",
      "\n",
      "XXX\n",
      "C.C. XXX\n",
      "Carné No. XX del Consultorio Jurídico.\n",
      "Universidad Externado de Colombia - Sala Civil.\n",
      "\n",
      "\n",
      " \n"
     ]
    }
   ],
   "source": [
    "#String \n",
    "\"\"\"El suscrito {} identificado con cédula de ciudadanía número {}, residente de ... \"\"\"\n",
    "nombres='Nicolás Guillermo'\n",
    "apellidos= 'Rondón Feles'\n",
    "cedula = '1.025.036.369'\n",
    "email= 'nicoguille@me.com'\n",
    "\n",
    "nombres = input('Ingrese su nombre').upper()\n",
    "\n",
    "\n",
    "poder =  f\"\"\"{nombres} {apellidos}, mayor de edad, domiciliade en la ciudad de Bogotá D.C., identificade con Cédula de \n",
    "Ciudadanía No. {cedula}, y dirección de \n",
    "notificación electrónica {email} por medio del presente escrito, otorgo PODER ESPECIAL, AMPLIO Y SUFICIENTE a XX, mayor de edad, \n",
    "domiciliado en Bogotá D.C., identificado con Cédula de Ciudadanía No. XX, miembro activo de Consultorio Jurídico de la \n",
    "Universidad Externado de Colombia, portador del carné No. XX, para que, en mi nombre y representación, inicie y lleve \n",
    "hasta su terminación el PROCESO DE SEPARACIÓN DE BIENES contra el señor XX, mayor de edad, domiciliado en Bogotá D.C., \n",
    "identificado con Cédula de Ciudadanía XX.\n",
    "Mi apoderada queda facultada para solicitar medidas cautelares, desistir, renunciar, sustituir, recibir, transigir, \n",
    "asumir el presente poder y demás facultades en los términos del artículo 77 del Código General del Proceso.\n",
    "\n",
    "Sírvase, Señor Juez, reconocerle personería jurídica a mi apoderada, en los términos y para los efectos del presente poder.\n",
    " \n",
    "Señor Juez,\n",
    "\n",
    "{nombres} {apellidos}\n",
    "C.C. No. {cedula}\n",
    "\n",
    "\n",
    "Acepto, \n",
    "\n",
    "\n",
    "XXX\n",
    "C.C. XXX\n",
    "Carné No. XX del Consultorio Jurídico.\n",
    "Universidad Externado de Colombia - Sala Civil.\n",
    "\n",
    "\n",
    " \"\"\"\n",
    "\n",
    "\n",
    "print(poder)\n",
    "\n",
    "### Pasos a seguir:\n",
    "# Hacer el resto de comodines (Juez, juzgado, carné, etc.)\n",
    "# Autoejecutable\n",
    "# Montarlo en una web App\n",
    "# Asociar juzgado con tipo de proceso\n",
    "# Hacer una versión para compraventa\n",
    "\n",
    "\n"
   ]
  },
  {
   "cell_type": "code",
   "execution_count": null,
   "metadata": {},
   "outputs": [],
   "source": []
  }
 ],
 "metadata": {
  "kernelspec": {
   "display_name": "Python 3",
   "language": "python",
   "name": "python3"
  },
  "language_info": {
   "codemirror_mode": {
    "name": "ipython",
    "version": 3
   },
   "file_extension": ".py",
   "mimetype": "text/x-python",
   "name": "python",
   "nbconvert_exporter": "python",
   "pygments_lexer": "ipython3",
   "version": "3.7.3"
  }
 },
 "nbformat": 4,
 "nbformat_minor": 4
}
