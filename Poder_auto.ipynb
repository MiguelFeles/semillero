{
 "cells": [
  {
   "cell_type": "markdown",
   "metadata": {},
   "source": [
    "# Primera iteración del poder"
   ]
  },
  {
   "cell_type": "code",
   "execution_count": 33,
   "metadata": {},
   "outputs": [
    {
     "name": "stdout",
     "output_type": "stream",
     "text": [
      "Número de carné? asd\n",
      "Corrija los datos joven\n",
      "Número de carné? asdasd\n",
      "Corrija los datos joven\n",
      "Número de carné? asdasd\n",
      "Corrija los datos joven\n",
      "Número de carné? asdasd\n",
      "Corrija los datos joven\n",
      "Número de carné? 12\n"
     ]
    }
   ],
   "source": [
    "#String \n",
    "\"\"\"El suscrito {} identificado con cédula de ciudadanía número {}, residente de ... \"\"\"\n",
    "\n",
    "# Datos de la persona que da el poder\n",
    "nombres = 'Nicolás Guillermo'\n",
    "apellidos = 'Rondón Feles'\n",
    "cedula = '1.025.036.369'\n",
    "email = 'nicoguille@me.com'\n",
    "\n",
    "\n",
    "\n",
    "#Datos de la persona que recibe el poder \n",
    "apoderado = 'Valentina Gordillo'\n",
    "ced_apo = '1.010.009.388'\n",
    "num_car = 118\n",
    "## Faltan cosas como el género etc.\n",
    "\n",
    "\n",
    "\n",
    "#Datos de la contraparte (demandado)\n",
    "\n",
    "\n",
    "\n",
    "nombres = input('Ingrese su nombre ').upper()\n",
    "genero = input('¿Género? (M/F) ').lower()\n",
    "\n",
    "while True:\n",
    "    num_car = input('Número de carné? ')\n",
    "\n",
    "    try:\n",
    "        num_car = int(num_car)\n",
    "        break\n",
    "    except:\n",
    "        print('Corrija los datos joven')\n",
    "        continue\n",
    "\n",
    "    \n",
    "if genero == 'm':\n",
    "    gen = 'o'\n",
    "elif genero == 'f':\n",
    "    gen = 'a'\n",
    "else:\n",
    "    gen = 'e'\n",
    "    \n",
    "\n",
    "\n",
    "poder =  f\"\"\"{nombres} {apellidos}, mayor de edad, domiciliad{gen} en la ciudad de Bogotá D.C., identificad{gen} con cédula de \n",
    "ciudadanía número {cedula}, y dirección de \n",
    "notificación electrónica {email}, por medio del presente escrito, otorgo PODER ESPECIAL, AMPLIO Y SUFICIENTE a {apoderado}, \n",
    "mayor de edad, domiciliade en Bogotá D.C., identificade con Cédula de Ciudadanía No. {ced_apo}, miembre active del Consultorio Jurídico de la \n",
    "Universidad Externado de Colombia, portadore del carné No. {num_car}, para que, en mi nombre y representación, inicie y lleve \n",
    "hasta su terminación el PROCESO DE SEPARACIÓN DE BIENES contra el señor XX, mayor de edad, domiciliado en Bogotá D.C., \n",
    "identificado con cédula de ciudadanía número XX.\n",
    "Mi apoderade queda facultade para solicitar medidas cautelares, desistir, renunciar, sustituir, recibir, transigir, \n",
    "asumir el presente poder y demás facultades en los términos del artículo 77 del Código General del Proceso.\n",
    "\n",
    "Sírvase, Señor Juez, reconocerle personería jurídica a mi apoderada, en los términos y para los efectos del presente poder.\n",
    " \n",
    "Señor Juez,\n",
    "\n",
    "{nombres} {apellidos}\n",
    "C.C. No. {cedula}\n",
    "\n",
    "\n",
    "Acepto, \n",
    "\n",
    "\n",
    "{apoderado}\n",
    "C.C. {ced_apo}\n",
    "Carné No. {num_car} del Consultorio Jurídico.\n",
    "Universidad Externado de Colombia - Sala Civil.\n",
    "\n",
    "\n",
    " \"\"\"\n",
    "\n",
    "\n",
    "print(poder)\n",
    "\n",
    "### Pasos a seguir:\n",
    "# Hacer el resto de comodines (Juez, juzgado, carné, etc.)\n",
    "# Autoejecutable\n",
    "# Montarlo en una web App\n",
    "# Asociar juzgado con tipo de proceso\n",
    "# Hacer una versión para compraventa, entre cosas.\n",
    "\n",
    "\n",
    "### Pasos a seguir para la próxima sesión:\n",
    "### Comodines de:\n",
    "    #Poderdante --> JJR\n",
    "    #Contraparte --> ECS\n",
    "    #Apo --> MC\n",
    "    \n",
    "    # Agregar algunos loops\n",
    "        ##Valentina\n",
    "    \n",
    "    # Averiguar tipo de procesos por sala en el consultorio\n",
    "        ### Nicolás\n",
    "    \n",
    "\n"
   ]
  },
  {
   "cell_type": "code",
   "execution_count": 7,
   "metadata": {},
   "outputs": [
    {
     "data": {
      "text/plain": [
       "int"
      ]
     },
     "execution_count": 7,
     "metadata": {},
     "output_type": "execute_result"
    }
   ],
   "source": [
    "type(num_car)"
   ]
  },
  {
   "cell_type": "code",
   "execution_count": 13,
   "metadata": {},
   "outputs": [
    {
     "ename": "ValueError",
     "evalue": "invalid literal for int() with base 10: '12312d3'",
     "output_type": "error",
     "traceback": [
      "\u001b[1;31m---------------------------------------------------------------------------\u001b[0m",
      "\u001b[1;31mValueError\u001b[0m                                Traceback (most recent call last)",
      "\u001b[1;32m<ipython-input-13-c5da5195ef7d>\u001b[0m in \u001b[0;36m<module>\u001b[1;34m\u001b[0m\n\u001b[1;32m----> 1\u001b[1;33m \u001b[0mint\u001b[0m\u001b[1;33m(\u001b[0m\u001b[1;34m'12312d3'\u001b[0m\u001b[1;33m)\u001b[0m\u001b[1;33m\u001b[0m\u001b[1;33m\u001b[0m\u001b[0m\n\u001b[0m",
      "\u001b[1;31mValueError\u001b[0m: invalid literal for int() with base 10: '12312d3'"
     ]
    }
   ],
   "source": [
    "int('12312d3')"
   ]
  },
  {
   "cell_type": "code",
   "execution_count": 24,
   "metadata": {},
   "outputs": [],
   "source": [
    "ced = '1.098.232,344'"
   ]
  },
  {
   "cell_type": "code",
   "execution_count": 27,
   "metadata": {},
   "outputs": [
    {
     "data": {
      "text/plain": [
       "'1098232344'"
      ]
     },
     "execution_count": 27,
     "metadata": {},
     "output_type": "execute_result"
    }
   ],
   "source": [
    "ced = ced.replace('.','')\n",
    "ced = ced.replace(',','')\n",
    "ced"
   ]
  },
  {
   "cell_type": "code",
   "execution_count": 26,
   "metadata": {},
   "outputs": [
    {
     "data": {
      "text/plain": [
       "'1.098.232,344'"
      ]
     },
     "execution_count": 26,
     "metadata": {},
     "output_type": "execute_result"
    }
   ],
   "source": [
    "ced"
   ]
  },
  {
   "cell_type": "code",
   "execution_count": 28,
   "metadata": {},
   "outputs": [
    {
     "ename": "ValueError",
     "evalue": "invalid literal for int() with base 10: 'ciento quince'",
     "output_type": "error",
     "traceback": [
      "\u001b[1;31m---------------------------------------------------------------------------\u001b[0m",
      "\u001b[1;31mValueError\u001b[0m                                Traceback (most recent call last)",
      "\u001b[1;32m<ipython-input-28-78e8acf96038>\u001b[0m in \u001b[0;36m<module>\u001b[1;34m\u001b[0m\n\u001b[1;32m----> 1\u001b[1;33m \u001b[0mint\u001b[0m\u001b[1;33m(\u001b[0m\u001b[1;34m'ciento quince'\u001b[0m\u001b[1;33m)\u001b[0m\u001b[1;33m\u001b[0m\u001b[1;33m\u001b[0m\u001b[0m\n\u001b[0m",
      "\u001b[1;31mValueError\u001b[0m: invalid literal for int() with base 10: 'ciento quince'"
     ]
    }
   ],
   "source": [
    "int('ciento quince')"
   ]
  },
  {
   "cell_type": "code",
   "execution_count": null,
   "metadata": {},
   "outputs": [],
   "source": []
  }
 ],
 "metadata": {
  "kernelspec": {
   "display_name": "Python 3",
   "language": "python",
   "name": "python3"
  },
  "language_info": {
   "codemirror_mode": {
    "name": "ipython",
    "version": 3
   },
   "file_extension": ".py",
   "mimetype": "text/x-python",
   "name": "python",
   "nbconvert_exporter": "python",
   "pygments_lexer": "ipython3",
   "version": "3.7.3"
  }
 },
 "nbformat": 4,
 "nbformat_minor": 4
}
