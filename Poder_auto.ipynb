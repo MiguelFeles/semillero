{
 "cells": [
  {
   "cell_type": "markdown",
   "metadata": {},
   "source": [
    "# Primera iteración del poder"
   ]
  },
  {
   "cell_type": "code",
   "execution_count": 3,
   "metadata": {},
   "outputs": [
    {
     "name": "stdout",
     "output_type": "stream",
     "text": [
      "¿Cuál es el nombre del poderdante? joaquin\n",
      "¿Cuál es el apellido del poderdante? rondon\n",
      "¿Cual es el correo electrónico del poderdante? joaquin\n",
      "Recuerde que el correo electronico se compone por el símbolo @. Por favor incorporelo \n",
      "\n",
      "¿cuál es el correo electronico del poderdante?\n",
      "joaquin@rondon\n",
      "¿cuál es el genero del poderdante?(M/F) L\n",
      "Don´t you opress me, \n",
      "corrige los datos del genero del poderdante (F/M)\n",
      "¿cuál es el genero del poderdante?(M/F) M\n",
      "¿cuál es la cedula del poderdante?Hola\n",
      "Corrija los datos joven, solo debe introducir valores numericos\n",
      "\n",
      "¿cuál es la cedula del poderdante?1019293727283\n",
      "Corrija los datos joven, recuerde que la cédula se compone por máximo 10 números\n",
      "\n",
      "¿cuál es la cedula del poderdante?\n",
      "1.010.009.388\n",
      "¿cuál es la cedula del poderdante?1.010.009.388\n",
      "¿cual es tu nombre, defensor del derecho? Valentina\n",
      "¿cual es tu apellido, defensor del derecho? Gordillo Martínez\n",
      "¿cuál es tu genero?(M/F) F\n",
      "¿Número de carné?\n",
      " 19000\n",
      "Corrija los datos joven, recuerde que el carné se compone por máximo por 3 digitos\n",
      "\n",
      "¿Número de carné?\n",
      "120\n",
      "¿Número de carné?\n",
      " 120\n",
      "¿cuál es tu cedula?uno dos tres cuatro\n",
      "Corrija los datos joven, solo debe introducir valores numericos\n",
      "\n",
      "¿cuál es tu cedula?99999999999999999999\n",
      "Corrija los datos joven, recuerde que la cédula se compone por máximo 10 números\n",
      "\n",
      "¿cuál es tu cedula?1.010.009.388\n",
      "¿cuál es tu cedula?1.010.009.388\n",
      "JOAQUIN RONDON, mayor de edad, domiciliado en la ciudad de Bogotá D.C., identificado con cédula de \n",
      "ciudadanía número 1010009388, y dirección de notificación electrónica joaquin@rondon, por medio del presente escrito, otorgo PODER ESPECIAL, AMPLIO Y SUFICIENTE a VALENTINA GORDILLO MARTÍNEZ, \n",
      "mayor de edad, domiciliada en Bogotá D.C., identificada con Cédula de Ciudadanía No. 1010009388, miembro activo del Consultorio Jurídico de la \n",
      "Universidad Externado de Colombia, portadora del carné No.120 , para que, en mi nombre y representación, inicie y lleve \n",
      "hasta su terminación el PROCESO DE SEPARACIÓN DE BIENES contra el señor MALDITO INFELIZ, mayor de edad, domiciliado en Bogotá D.C., \n",
      "identificado con cédula de ciudadanía número 6666666.\n",
      "Mi apoderada queda facultada para solicitar medidas cautelares, desistir, renunciar, sustituir, recibir, transigir, \n",
      "asumir el presente poder y demás facultades en los términos del artículo 77 del Código General del Proceso.\n",
      "\n",
      "Sírvase, Señor Juez, reconocerle personería jurídica a mi apoderada, en los términos y para los efectos del presente poder.\n",
      " \n",
      "Señor Juez,\n",
      "\n",
      "JOAQUIN RONDON\n",
      "C.C. No. 1010009388\n",
      "\n",
      "\n",
      "Acepto, \n",
      "\n",
      "\n",
      "VALENTINA GORDILLO MARTÍNEZ\n",
      "C.C. 1010009388\n",
      "Carné No.120  del Consultorio Jurídico.\n",
      "Universidad Externado de Colombia - Sala Civil.\n",
      "\n",
      "\n",
      " \n"
     ]
    }
   ],
   "source": [
    "#String \n",
    "\n",
    "# :::::::::::::::::::::::::::::::::::::::::::::::DATOS PODERDANTE:::::::::::::::::::::::::::::::::::::::::::::::::::::::\n",
    "nom_poder = input('¿Cuál es el nombre del poderdante? ').upper()\n",
    "ape_poder = input('¿Cuál es el apellido del poderdante? ').upper()\n",
    "email = input('¿Cual es el correo electrónico del poderdante? ').lower()\n",
    "\n",
    "#Loop para confirmar que se haya incorporado el simbolo @\n",
    "\n",
    "while True:\n",
    "    if ('@') in email :\n",
    "        break\n",
    "    if ('@') not in email:\n",
    "        print('Recuerde que el correo electronico se compone por el símbolo @. Por favor incorporelo')\n",
    "        email = input('¿cuál es el correo electronico del poderdante?\\n')\n",
    "        continue\n",
    "#---------------------------------------------------------------------------------------------------------------------------\n",
    "\n",
    "gen_poder = input('¿cuál es el genero del poderdante?(M/F) ').lower()\n",
    "\n",
    "while True:\n",
    "    if gen_poder == 'm' or gen_poder == 'f' :\n",
    "        if gen_poder == 'm':\n",
    "            gen_poder = 'o'\n",
    "        elif gen_poder == 'f':\n",
    "            gen_poder = 'a'\n",
    "        break\n",
    "    print('Don´t you opress me, \\ncorrige los datos del genero del poderdante (F/M)')\n",
    "    gen_poder = input('¿cuál es el genero del poderdante?(M/F) ').lower() \n",
    "\n",
    "\n",
    "#LOOP Para que no haya un número de cédula mayor a 10 digitos\n",
    "\n",
    "while True:\n",
    "    try:\n",
    "        ced_poder = input('¿cuál es la cedula del poderdante?')\n",
    "        ced_poder = ced_poder.replace('.','')\n",
    "        ced_poder = ced_poder.replace(',','')\n",
    "        ced_poder = int(ced_poder) \n",
    "    except:\n",
    "        print('Corrija los datos joven, solo debe introducir valores numericos')\n",
    "        continue  \n",
    "    if ced_poder < 9999999999 :\n",
    "        break\n",
    "    elif ced_poder > 9999999999 :\n",
    "        print('Corrija los datos joven, recuerde que la cédula se compone por máximo 10 números')\n",
    "        ced_poder = input('¿cuál es la cedula del poderdante?\\n')\n",
    "        continue\n",
    "\n",
    "#:::::::::::::::::::::::::::::::::::::::::::::::::DATOS APODERADO:::::::::::::::::::::::::::::::::::::::::::::::::::::::\n",
    "nom_apo = input('¿cual es tu nombre, defensor del derecho? ' ).upper()\n",
    "ape_apo = input('¿cual es tu apellido, defensor del derecho? ').upper()\n",
    "gen_apo = input('¿cuál es tu genero?(M/F) ').lower()\n",
    "portadore = '' #para saber si es portador o portadora\n",
    "while True:\n",
    "    if gen_apo == 'm' or gen_apo == 'f' :\n",
    "        if gen_apo == 'm':\n",
    "            gen_apo = 'o'\n",
    "        elif gen_apo == 'f':\n",
    "            gen_apo = 'a'\n",
    "            portadore = 'a'\n",
    "        break\n",
    "    print('Don´t you opress me, \\ncorrige los datos de tu genero (F/M)')\n",
    "    gen_apo = input('¿cuál es tu genero?(M/F) ').lower() \n",
    "\n",
    "#LOOP PARA LIMITAR NÚMERO DE CARNÉ: Que no sea mayor a 3 digitos\n",
    "\n",
    "while True:\n",
    "    try:\n",
    "        num_car = input('¿Número de carné?')\n",
    "        num_car = num_car.replace('.','')\n",
    "        num_car = num_car.replace(',','')\n",
    "        num_car = int(num_car) \n",
    "    except:\n",
    "        print('Corrija los datos joven, solo debe introducir valores numericos')\n",
    "        continue  \n",
    "    if num_car < 1000 :\n",
    "        break\n",
    "    elif num_car > 1000 :\n",
    "        print('Corrija los datos joven, recuerde que el carné se compone por máximo por 3 digitos')\n",
    "        num_car = input('¿Número de carné?\\n')\n",
    "        continue\n",
    "\n",
    "\n",
    "#LOOP Para que no haya un número de cédula mayor a 10 digitos\n",
    "while True:\n",
    "    try:\n",
    "        ced_apo = input('¿cuál es tu cedula?')\n",
    "        ced_apo = ced_apo.replace('.','')\n",
    "        ced_apo = ced_apo.replace(',','')\n",
    "        ced_apo = int(ced_apo) \n",
    "    except:\n",
    "        print('Corrija los datos joven, solo debe introducir valores numericos')\n",
    "        continue  \n",
    "    if ced_apo < 9999999999 :\n",
    "        break\n",
    "    elif ced_apo > 9999999999 :\n",
    "        print('Corrija los datos joven, recuerde que la cédula se compone por máximo 10 números')\n",
    "        ced_apo = input('¿cuál es tu cedula?\\n')\n",
    "        continue\n",
    "\n",
    "#:::::::::::::::::::::::::::::::::::::::::::::::DATOS CONTRAPARTE::::::::::::::::::::::::::::::::::::::::::::::::::::\n",
    "nom_contra = 'Maldito infeliz'\n",
    "nom_contra = nom_contra.upper()\n",
    "ced_contra = '6666666'\n",
    "gen_contra = 'o'\n",
    "\n",
    "\n",
    "## Faltan cosas como el género etc.\n",
    "\n",
    "\n",
    "\n",
    "#Datos de la contraparte (demandado)\n",
    "\n",
    "\n",
    "poder =  f\"\"\"{nom_poder} {ape_poder}, mayor de edad, domiciliad{gen_poder} en la ciudad de Bogotá D.C., identificad{gen_poder} con cédula de \n",
    "ciudadanía número {ced_poder}, y dirección de notificación electrónica {email}, por medio del presente escrito, otorgo PODER ESPECIAL, AMPLIO Y SUFICIENTE a {nom_apo} {ape_apo}, \n",
    "mayor de edad, domiciliad{gen_apo} en Bogotá D.C., identificad{gen_apo} con Cédula de Ciudadanía No. {ced_apo}, miembro activo del Consultorio Jurídico de la \n",
    "Universidad Externado de Colombia, portador{portadore} del carné No.{num_car} , para que, en mi nombre y representación, inicie y lleve \n",
    "hasta su terminación el PROCESO DE SEPARACIÓN DE BIENES contra el señor {nom_contra}, mayor de edad, domiciliad{gen_contra} en Bogotá D.C., \n",
    "identificado con cédula de ciudadanía número {ced_contra}.\n",
    "Mi apoderad{gen_apo} queda facultad{gen_apo} para solicitar medidas cautelares, desistir, renunciar, sustituir, recibir, transigir, \n",
    "asumir el presente poder y demás facultades en los términos del artículo 77 del Código General del Proceso.\n",
    "\n",
    "Sírvase, Señor Juez, reconocerle personería jurídica a mi apoderad{gen_apo}, en los términos y para los efectos del presente poder.\n",
    " \n",
    "Señor Juez,\n",
    "\n",
    "{nom_poder} {ape_poder}\n",
    "C.C. No. {ced_poder}\n",
    "\n",
    "\n",
    "Acepto, \n",
    "\n",
    "\n",
    "{nom_apo} {ape_apo}\n",
    "C.C. {ced_apo}\n",
    "Carné No.{num_car}  del Consultorio Jurídico.\n",
    "Universidad Externado de Colombia - Sala Civil.\n",
    "\n",
    "\n",
    " \"\"\"\n",
    "\n",
    "\n",
    "print(poder)\n",
    "\n",
    "### Pasos a seguir:\n",
    "# Hacer el resto de comodines (Juez, juzgado, carné, etc.)\n",
    "# Autoejecutable\n",
    "# Montarlo en una web App\n",
    "# Asociar juzgado con tipo de proceso\n",
    "# Hacer una versión para compraventa, entre cosas.\n",
    "\n",
    "\n",
    "### Pasos a seguir para la próxima sesión:\n",
    "### Comodines de:\n",
    "    #Poderdante --> JJR\n",
    "    #Contraparte --> ECS\n",
    "    #Apo --> MC\n",
    "    \n",
    "    # Agregar algunos loops\n",
    "        ##Valentina\n",
    "    \n",
    "    # Averiguar tipo de procesos por sala en el consultorio\n",
    "        ### Nicolás\n",
    "    \n",
    "\n"
   ]
  },
  {
   "cell_type": "code",
   "execution_count": 1,
   "metadata": {},
   "outputs": [
    {
     "ename": "NameError",
     "evalue": "name 'num_car' is not defined",
     "output_type": "error",
     "traceback": [
      "\u001b[1;31m---------------------------------------------------------------------------\u001b[0m",
      "\u001b[1;31mNameError\u001b[0m                                 Traceback (most recent call last)",
      "\u001b[1;32m<ipython-input-1-6def638db850>\u001b[0m in \u001b[0;36m<module>\u001b[1;34m\u001b[0m\n\u001b[1;32m----> 1\u001b[1;33m \u001b[0mtype\u001b[0m\u001b[1;33m(\u001b[0m\u001b[0mnum_car\u001b[0m\u001b[1;33m)\u001b[0m\u001b[1;33m\u001b[0m\u001b[1;33m\u001b[0m\u001b[0m\n\u001b[0m",
      "\u001b[1;31mNameError\u001b[0m: name 'num_car' is not defined"
     ]
    }
   ],
   "source": [
    "type(num_car)"
   ]
  },
  {
   "cell_type": "code",
   "execution_count": 13,
   "metadata": {},
   "outputs": [
    {
     "ename": "ValueError",
     "evalue": "invalid literal for int() with base 10: '12312d3'",
     "output_type": "error",
     "traceback": [
      "\u001b[1;31m---------------------------------------------------------------------------\u001b[0m",
      "\u001b[1;31mValueError\u001b[0m                                Traceback (most recent call last)",
      "\u001b[1;32m<ipython-input-13-c5da5195ef7d>\u001b[0m in \u001b[0;36m<module>\u001b[1;34m\u001b[0m\n\u001b[1;32m----> 1\u001b[1;33m \u001b[0mint\u001b[0m\u001b[1;33m(\u001b[0m\u001b[1;34m'12312d3'\u001b[0m\u001b[1;33m)\u001b[0m\u001b[1;33m\u001b[0m\u001b[1;33m\u001b[0m\u001b[0m\n\u001b[0m",
      "\u001b[1;31mValueError\u001b[0m: invalid literal for int() with base 10: '12312d3'"
     ]
    }
   ],
   "source": [
    "int('12312d3')"
   ]
  },
  {
   "cell_type": "code",
   "execution_count": 24,
   "metadata": {},
   "outputs": [],
   "source": [
    "ced = '1.098.232,344'"
   ]
  },
  {
   "cell_type": "code",
   "execution_count": 27,
   "metadata": {},
   "outputs": [
    {
     "data": {
      "text/plain": [
       "'1098232344'"
      ]
     },
     "execution_count": 27,
     "metadata": {},
     "output_type": "execute_result"
    }
   ],
   "source": [
    "ced = ced.replace('.','')\n",
    "ced = ced.replace(',','')\n",
    "ced"
   ]
  },
  {
   "cell_type": "code",
   "execution_count": 26,
   "metadata": {},
   "outputs": [
    {
     "data": {
      "text/plain": [
       "'1.098.232,344'"
      ]
     },
     "execution_count": 26,
     "metadata": {},
     "output_type": "execute_result"
    }
   ],
   "source": [
    "ced"
   ]
  },
  {
   "cell_type": "code",
   "execution_count": 28,
   "metadata": {},
   "outputs": [
    {
     "ename": "ValueError",
     "evalue": "invalid literal for int() with base 10: 'ciento quince'",
     "output_type": "error",
     "traceback": [
      "\u001b[1;31m---------------------------------------------------------------------------\u001b[0m",
      "\u001b[1;31mValueError\u001b[0m                                Traceback (most recent call last)",
      "\u001b[1;32m<ipython-input-28-78e8acf96038>\u001b[0m in \u001b[0;36m<module>\u001b[1;34m\u001b[0m\n\u001b[1;32m----> 1\u001b[1;33m \u001b[0mint\u001b[0m\u001b[1;33m(\u001b[0m\u001b[1;34m'ciento quince'\u001b[0m\u001b[1;33m)\u001b[0m\u001b[1;33m\u001b[0m\u001b[1;33m\u001b[0m\u001b[0m\n\u001b[0m",
      "\u001b[1;31mValueError\u001b[0m: invalid literal for int() with base 10: 'ciento quince'"
     ]
    }
   ],
   "source": [
    "int('ciento quince')"
   ]
  },
  {
   "cell_type": "code",
   "execution_count": null,
   "metadata": {},
   "outputs": [],
   "source": [
    "gen_apo = input('¿cuál es tu genero?(M/F) ').lower()\n",
    "while True:\n",
    "    if gen_apo == 'm' or gen_apo == 'f' :\n",
    "        if gen_apo == 'm':\n",
    "            gen_apo = 'o'\n",
    "        elif gen_apo == 'f':\n",
    "            gen_apo = 'a'\n",
    "        break\n",
    "    print('Don´t you opress me, \\ncorrige los datos de tu genero (F/M)')\n",
    "    gen_apo = input('¿cuál es tu genero?(M/F) ').lower() \n",
    "num_car = input('¿Número de carné? ')\n",
    "ced_apo = input('¿cuál es tu cedula?')\n",
    "ced_apo = ced_apo.replace('.','')\n",
    "while True:\n",
    "    try:\n",
    "        num_car = int(num_car)\n",
    "        ced_apo = int(ced_apo) \n",
    "    except:\n",
    "        print('Corrija los datos joven, tiene que meter números')\n",
    "        continue  \n",
    "    if num_car <= 1000 and ced_apo < 9999999999 :\n",
    "        break\n",
    "    elif num_car >= 1000:\n",
    "        print('recuerda que el carné se compone por máximo 3 números')\n",
    "        num_car = input('¿Número de carné? ')\n",
    "        continue\n",
    "    elif ced_apo > 9999999999 :\n",
    "        print('recuerda que la cédula se compone por máximo 10 números')\n",
    "        ced_apo = input('¿cuál es tu cedula?')\n",
    "        continue "
   ]
  },
  {
   "cell_type": "code",
   "execution_count": 9,
   "metadata": {},
   "outputs": [
    {
     "name": "stdout",
     "output_type": "stream",
     "text": [
      "\u001b[1mHello World !\u001b[0m\n",
      "\u001b[1mHello World !\u001b[0m\n"
     ]
    }
   ],
   "source": [
    "class color:\n",
    "    PURPLE = '\\033[95m'\n",
    "    CYAN = '\\033[96m'\n",
    "    DARKCYAN = '\\033[36m'\n",
    "    BLUE = '\\033[94m'\n",
    "    GREEN = '\\033[92m'\n",
    "    YELLOW = '\\033[93m'\n",
    "    RED = '\\033[91m'\n",
    "    BOLD = '\\033[1m'\n",
    "    UNDERLINE = '\\033[4m'\n",
    "    END = '\\033[0m'\n",
    "\n",
    "print(color.BOLD + 'Hello World !' + color.END)\n",
    "print(color.BOLD + 'Hello World !' + color.END)"
   ]
  },
  {
   "cell_type": "code",
   "execution_count": null,
   "metadata": {},
   "outputs": [],
   "source": [
    "gen_poder = input('¿cuál es el genero del poderdante?(M/F) ').lower()\n",
    "while True:\n",
    "    if gen_poder == 'm' or gen_poder == 'f' :\n",
    "        if gen_poder == 'm':\n",
    "            gen_poder = 'o'\n",
    "        elif gen_poder == 'f':\n",
    "            gen_poder = 'a'\n",
    "        break\n",
    "    print('Don´t you opress me, \\ncorrige los datos del genero del poderdante (F/M)')\n",
    "    gen_poder = input('¿cuál es el genero del poderdante?(M/F) ').lower() \n",
    "ced_poder = input('¿cuál es la cedula del poderdante?')\n",
    "ced_poder = ced_poder.replace('.','')\n",
    "while True:\n",
    "    try:\n",
    "        ced_poder = int(ced_poder) \n",
    "    except:\n",
    "        print('Corrija los datos joven, tiene que meter números')\n",
    "        continue  \n",
    "    if ced_poder < 9999999999 :\n",
    "        break\n",
    "    elif ced_apo > 9999999999 :\n",
    "        print('recuerda que la cédula se compone por máximo 10 números')\n",
    "        ced_apo = input('¿cuál es la cedula del poderdante?')\n",
    "        continue"
   ]
  }
 ],
 "metadata": {
  "kernelspec": {
   "display_name": "Python 3",
   "language": "python",
   "name": "python3"
  },
  "language_info": {
   "codemirror_mode": {
    "name": "ipython",
    "version": 3
   },
   "file_extension": ".py",
   "mimetype": "text/x-python",
   "name": "python",
   "nbconvert_exporter": "python",
   "pygments_lexer": "ipython3",
   "version": "3.8.5"
  }
 },
 "nbformat": 4,
 "nbformat_minor": 4
}
