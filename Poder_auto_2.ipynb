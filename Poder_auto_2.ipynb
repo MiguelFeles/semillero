{
 "cells": [
  {
   "cell_type": "markdown",
   "metadata": {},
   "source": [
    "# Primera iteración del poder"
   ]
  },
  {
   "cell_type": "code",
   "execution_count": 1,
   "metadata": {},
   "outputs": [
    {
     "name": "stdout",
     "output_type": "stream",
     "text": [
      "¿Cuál es el nombre del poderdante?\n",
      " Valentina G\n",
      "¿Cuáles son los apellidos del poderdante? \n",
      "Gordillo\n",
      "¿Cuál es el correo electrónico del poderdante? \n",
      "valen_g&\n",
      "Ingrese un correo electrónico valido\n",
      "¿cuál es el correo electronico del poderdante?\n",
      "valen_g@nada\n",
      "¿cuál es el género del poderdante?(M/F) \n",
      "k\n",
      "Don´t you opress me, \n",
      "corrige los datos del género del poderdante (F/M) \n",
      "\n",
      "¿cuál es el género del poderdante?(M/F) \n",
      "non binary\n",
      "Don´t you opress me, \n",
      "corrige los datos del género del poderdante (F/M) \n",
      "\n",
      "¿cuál es el género del poderdante?(M/F) \n",
      "MF\n",
      "Don´t you opress me, \n",
      "corrige los datos del género del poderdante (F/M) \n",
      "\n",
      "¿cuál es el género del poderdante?(M/F) \n",
      "F\n",
      "¿cuál es la cedula del poderdante? \n",
      "118.4\n",
      "¿cuál es tu nombre, defensor del derecho? \n",
      "Andy Law\n",
      "¿cuáles son tus apellidos, defensor del derecho? \n",
      "Law is my middle name\n",
      "¿cuál es tu género?(M/F)\n",
      " M\n",
      "¿Cuál es tu número de carné?\n",
      "118\n",
      "¿cuál es tu cedula?\n",
      "1.343.567.332\n",
      "VALENTINA G GORDILLO, mayor de edad, domiciliada en la ciudad de Bogotá D.C., identificada con cédula de \n",
      "ciudadanía número 1184, y dirección de notificación electrónica valen_g@nada, por medio del presente escrito, otorgo PODER ESPECIAL, AMPLIO Y SUFICIENTE a ANDY LAW LAW IS MY MIDDLE NAME, \n",
      "mayor de edad, domiciliado en Bogotá D.C., identificado con Cédula de Ciudadanía No. 1343567332, miembro activo del Consultorio Jurídico de la \n",
      "Universidad Externado de Colombia, portador del carné No.118 , para que, en mi nombre y representación, inicie y lleve \n",
      "hasta su terminación el PROCESO DE SEPARACIÓN DE BIENES contra el señor MALDITO INFELIZ, mayor de edad, domiciliado en Bogotá D.C., \n",
      "identificado con cédula de ciudadanía número 6666666.\n",
      "Mi apoderado queda facultado para solicitar medidas cautelares, desistir, renunciar, sustituir, recibir, transigir, \n",
      "asumir el presente poder y demás facultades en los términos del artículo 77 del Código General del Proceso.\n",
      "\n",
      "Sírvase, Señor Juez, reconocerle personería jurídica a mi apoderado, en los términos y para los efectos del presente poder.\n",
      " \n",
      "Señor Juez,\n",
      "\n",
      "VALENTINA G GORDILLO\n",
      "C.C. No. 1184\n",
      "\n",
      "\n",
      "Acepto, \n",
      "\n",
      "\n",
      "ANDY LAW LAW IS MY MIDDLE NAME\n",
      "C.C. 1343567332\n",
      "Carné No.118  del Consultorio Jurídico.\n",
      "Universidad Externado de Colombia - Sala Civil.\n",
      "\n",
      "\n",
      " \n"
     ]
    }
   ],
   "source": [
    "#String \n",
    "\n",
    "# :::::::::::::::::::::::::::::::::::::::::::::::DATOS PODERDANTE:::::::::::::::::::::::::::::::::::::::::::::::::::::::\n",
    "nom_poder = input('¿Cuál es el nombre del poderdante?\\n ').upper()\n",
    "ape_poder = input('¿Cuáles son los apellidos del poderdante? \\n').upper()\n",
    "email = input('¿Cuál es el correo electrónico del poderdante? \\n').lower()\n",
    "\n",
    "#Loop para confirmar que se haya incorporado el simbolo @\n",
    "\n",
    "\n",
    "\n",
    "\n",
    "\n",
    "nom_poder = input(f'Ingrese nombre(s) de {parte}\\n (Ej. José Miguel)').upper()\n",
    "ape_poder = input(f'Ingrese los apellidos de {parte}\\n (Ej. Rondón Gordillo)').upper()\n",
    "\n",
    "while True:\n",
    "    email = input(f'¿Cuál es el correo electrónico de {parte} \\n').lower()\n",
    "    if '@' in email:\n",
    "        break\n",
    "    if '@' not in email:\n",
    "        print('Ingrese un correo electrónico valido (Ej. @gmail.com)')\n",
    "        continue\n",
    "#---------------------------------------------------------------------------------------------------------------------------\n",
    "\n",
    "\n",
    "while True:\n",
    "    gen_poder = input(f'¿cuál es el género de {parte}(M/F) \\n').lower()\n",
    "    if gen_poder == 'm' or gen_poder == 'f' :\n",
    "        if gen_poder == 'm':\n",
    "            gen_poder = 'o'\n",
    "        elif gen_poder == 'f':\n",
    "            gen_poder = 'a'\n",
    "        break\n",
    "    print(f\"Don't you opress me, \\ncorrige los datos del género de {parte} (F/M) \\n\")\n",
    "\n",
    "#LOOP Para que no haya un número de cédula mayor a 10 digitos\n",
    "\n",
    "while True:\n",
    "    ced_poder = input(f'¿cuál es la cedula de {parte}? \\n')\n",
    "    ced_poder = ced_poder.replace('.','').replace(\",\",\"\")\n",
    "    try:\n",
    "        ced_poder = int(ced_poder) \n",
    "    except:\n",
    "        print('Corrija los datos joven, solo debe introducir valores númericos')\n",
    "        continue\n",
    "    if 6 < len(ced_poder) <= 10:\n",
    "        break\n",
    "    else:\n",
    "        print('Verifique el valor ingresado joven, recuerde que la cédula se compone por entre 6 y 10 digitos')\n",
    "        continue\n",
    "\n",
    "#:::::::::::::::::::::::::::::::::::::::::::::::::DATOS APODERADO:::::::::::::::::::::::::::::::::::::::::::::::::::::::\n",
    "nom_apo = input('¿cuál es tu nombre, defensor del derecho? \\n' ).upper()\n",
    "ape_apo = input('¿cuáles son tus apellidos, defensor del derecho? \\n').upper()\n",
    "gen_apo = input('¿cuál es tu género?(M/F)\\n ').lower()\n",
    "portadore = '' #para saber si es portador o portadora\n",
    "while True:\n",
    "    if gen_apo == 'm' or gen_apo == 'f' :\n",
    "        if gen_apo == 'm':\n",
    "            gen_apo = 'o'\n",
    "        elif gen_apo == 'f':\n",
    "            gen_apo = 'a'\n",
    "            portadore = 'a'\n",
    "        break\n",
    "    print('Don´t you opress me, \\ncorrige los datos de tu genero (F/M)')\n",
    "    gen_apo = input('¿cuál es tu género?(M/F) \\n').lower() \n",
    "\n",
    "#LOOP PARA LIMITAR NÚMERO DE CARNÉ: Que no sea mayor a 3 digitos\n",
    "\n",
    "while True:\n",
    "    try:\n",
    "        num_car = input('¿Cuál es tu número de carné?\\n')\n",
    "        num_car = num_car.replace('.','')\n",
    "        num_car = int(num_car) \n",
    "    except:\n",
    "        print('Corrija los datos joven, sólo debe introducir valores numericos')\n",
    "        continue  \n",
    "    if num_car < 1000 :\n",
    "        break\n",
    "    elif num_car >= 1000 :\n",
    "        print('Corrija los datos joven, recuerde que el carné se compone por máximo por 3 digitos')\n",
    "        continue\n",
    "\n",
    "\n",
    "#LOOP Para que no haya un número de cédula mayor a 10 digitos\n",
    "while True:\n",
    "    try:\n",
    "        ced_apo = input('¿cuál es tu cedula?\\n')\n",
    "        ced_apo = ced_apo.replace('.','')\n",
    "        ced_apo = int(ced_apo) \n",
    "    except:\n",
    "        print('Corrija los datos joven, sólo debe introducir valores numericos')\n",
    "        continue  \n",
    "    if ced_apo <= 9999999999 :\n",
    "        break\n",
    "    elif ced_apo > 9999999999 :\n",
    "        print('Corrija los datos joven, recuerde que la cédula se compone por máximo 10 números')\n",
    "        continue\n",
    "\n",
    "#:::::::::::::::::::::::::::::::::::::::::::::::DATOS CONTRAPARTE::::::::::::::::::::::::::::::::::::::::::::::::::::\n",
    "\n",
    "\n",
    "\n",
    "\n",
    "\n",
    "\n",
    "\n",
    "\n",
    "nom_contra = 'Maldito infeliz'\n",
    "nom_contra = nom_contra.upper()\n",
    "ced_contra = '6666666'\n",
    "gen_contra = 'o'\n",
    "\n",
    "\n",
    "## Faltan cosas como el género etc.\n",
    "\n",
    "\n",
    "\n",
    "#Datos de la contraparte (demandado)\n",
    "\n",
    "\n",
    "poder =  f\"\"\"{nom_poder} {ape_poder}, mayor de edad, domiciliad{gen_poder} en la ciudad de Bogotá D.C., \n",
    "\n",
    "identificad{gen_poder} con cédula de ciudadanía número {ced_poder}, y dirección de notificación electrónica {email}, \n",
    "por medio del presente escrito, otorgo PODER ESPECIAL, AMPLIO Y SUFICIENTE a {nom_apo} {ape_apo}, \n",
    "mayor de edad, domiciliad{gen_apo} en Bogotá D.C., identificad{gen_apo} con \n",
    "Cédula de Ciudadanía No. {ced_apo}, miembro activo del Consultorio Jurídico de la \n",
    "Universidad Externado de Colombia, portador{portadore} del carné No.{num_car} , para que, \n",
    "en mi nombre y representación, inicie y lleve \n",
    "hasta su terminación el PROCESO DE SEPARACIÓN DE BIENES contra el señor {nom_contra} {ape_contra}, \n",
    "mayor de edad, domiciliad{gen_contra} en Bogotá D.C., \n",
    "identificad{gen_contra} con cédula de ciudadanía número {ced_contra}, con dirección de notificación electrónica \n",
    "{email_2}.\n",
    "Mi apoderad{gen_apo} queda facultad{gen_apo} para solicitar medidas cautelares, \n",
    "desistir, renunciar, sustituir, recibir, transigir, \n",
    "asumir el presente poder y demás facultades en los términos del artículo 77 del \n",
    "Código General del Proceso.\n",
    "\n",
    "Sírvase, Señor Juez, reconocerle personería jurídica a mi apoderad{gen_apo}, en los términos y para los efectos del presente poder.\n",
    " \n",
    "Señor Juez,\n",
    "\n",
    "{nom_poder} {ape_poder}\n",
    "C.C. No. {ced_poder}\n",
    "\n",
    "\n",
    "Acepto, \n",
    "\n",
    "\n",
    "{nom_apo} {ape_apo}\n",
    "C.C. {ced_apo}\n",
    "Carné No.{num_car}  del Consultorio Jurídico.\n",
    "Universidad Externado de Colombia - Sala Civil.\n",
    "\n",
    "\n",
    " \"\"\"\n",
    "\n",
    "\n",
    "print(poder)\n",
    "\n",
    "### Pasos a seguir:\n",
    "# Hacer el resto de comodines (Juez, juzgado, carné, etc.)\n",
    "# Autoejecutable\n",
    "# Montarlo en una web App\n",
    "# Asociar juzgado con tipo de proceso\n",
    "# Hacer una versión para compraventa, entre cosas.\n",
    "\n",
    "\n",
    "### Pasos a seguir para la próxima sesión:\n",
    "### Comodines de:\n",
    "    #Poderdante --> JJR\n",
    "    #Contraparte --> ECS\n",
    "    #Apo --> MC\n",
    "    \n",
    "    # Agregar algunos loops\n",
    "        ##Valentina\n",
    "    \n",
    "    # Averiguar tipo de procesos por sala en el consultorio\n",
    "        ### Nicolás\n",
    "    \n",
    "\n"
   ]
  },
  {
   "cell_type": "code",
   "execution_count": null,
   "metadata": {},
   "outputs": [],
   "source": [
    "type(num_car)"
   ]
  },
  {
   "cell_type": "code",
   "execution_count": 13,
   "metadata": {},
   "outputs": [
    {
     "ename": "ValueError",
     "evalue": "invalid literal for int() with base 10: '12312d3'",
     "output_type": "error",
     "traceback": [
      "\u001b[1;31m---------------------------------------------------------------------------\u001b[0m",
      "\u001b[1;31mValueError\u001b[0m                                Traceback (most recent call last)",
      "\u001b[1;32m<ipython-input-13-c5da5195ef7d>\u001b[0m in \u001b[0;36m<module>\u001b[1;34m\u001b[0m\n\u001b[1;32m----> 1\u001b[1;33m \u001b[0mint\u001b[0m\u001b[1;33m(\u001b[0m\u001b[1;34m'12312d3'\u001b[0m\u001b[1;33m)\u001b[0m\u001b[1;33m\u001b[0m\u001b[1;33m\u001b[0m\u001b[0m\n\u001b[0m",
      "\u001b[1;31mValueError\u001b[0m: invalid literal for int() with base 10: '12312d3'"
     ]
    }
   ],
   "source": [
    "int('12312d3')"
   ]
  },
  {
   "cell_type": "code",
   "execution_count": 24,
   "metadata": {},
   "outputs": [],
   "source": [
    "ced = '1.098.232,344'"
   ]
  },
  {
   "cell_type": "code",
   "execution_count": 27,
   "metadata": {},
   "outputs": [
    {
     "data": {
      "text/plain": [
       "'1098232344'"
      ]
     },
     "execution_count": 27,
     "metadata": {},
     "output_type": "execute_result"
    }
   ],
   "source": [
    "ced = ced.replace('.','')\n",
    "ced = ced.replace(',','')\n",
    "ced"
   ]
  },
  {
   "cell_type": "code",
   "execution_count": 26,
   "metadata": {},
   "outputs": [
    {
     "data": {
      "text/plain": [
       "'1.098.232,344'"
      ]
     },
     "execution_count": 26,
     "metadata": {},
     "output_type": "execute_result"
    }
   ],
   "source": [
    "ced"
   ]
  },
  {
   "cell_type": "code",
   "execution_count": 28,
   "metadata": {},
   "outputs": [
    {
     "ename": "ValueError",
     "evalue": "invalid literal for int() with base 10: 'ciento quince'",
     "output_type": "error",
     "traceback": [
      "\u001b[1;31m---------------------------------------------------------------------------\u001b[0m",
      "\u001b[1;31mValueError\u001b[0m                                Traceback (most recent call last)",
      "\u001b[1;32m<ipython-input-28-78e8acf96038>\u001b[0m in \u001b[0;36m<module>\u001b[1;34m\u001b[0m\n\u001b[1;32m----> 1\u001b[1;33m \u001b[0mint\u001b[0m\u001b[1;33m(\u001b[0m\u001b[1;34m'ciento quince'\u001b[0m\u001b[1;33m)\u001b[0m\u001b[1;33m\u001b[0m\u001b[1;33m\u001b[0m\u001b[0m\n\u001b[0m",
      "\u001b[1;31mValueError\u001b[0m: invalid literal for int() with base 10: 'ciento quince'"
     ]
    }
   ],
   "source": [
    "int('ciento quince')"
   ]
  },
  {
   "cell_type": "code",
   "execution_count": null,
   "metadata": {},
   "outputs": [],
   "source": [
    "gen_apo = input('¿cuál es tu genero?(M/F) ').lower()\n",
    "while True:\n",
    "    if gen_apo == 'm' or gen_apo == 'f' :\n",
    "        if gen_apo == 'm':\n",
    "            gen_apo = 'o'\n",
    "        elif gen_apo == 'f':\n",
    "            gen_apo = 'a'\n",
    "        break\n",
    "    print('Don´t you opress me, \\ncorrige los datos de tu genero (F/M)')\n",
    "    gen_apo = input('¿cuál es tu genero?(M/F) ').lower() \n",
    "num_car = input('¿Número de carné? ')\n",
    "ced_apo = input('¿cuál es tu cedula?')\n",
    "ced_apo = ced_apo.replace('.','')\n",
    "while True:\n",
    "    try:\n",
    "        num_car = int(num_car)\n",
    "        ced_apo = int(ced_apo) \n",
    "    except:\n",
    "        print('Corrija los datos joven, tiene que meter números')\n",
    "        continue  \n",
    "    if num_car <= 1000 and ced_apo < 9999999999 :\n",
    "        break\n",
    "    elif num_car >= 1000:\n",
    "        print('recuerda que el carné se compone por máximo 3 números')\n",
    "        num_car = input('¿Número de carné? ')\n",
    "        continue\n",
    "    elif ced_apo > 9999999999 :\n",
    "        print('recuerda que la cédula se compone por máximo 10 números')\n",
    "        ced_apo = input('¿cuál es tu cedula?')\n",
    "        continue "
   ]
  },
  {
   "cell_type": "code",
   "execution_count": 9,
   "metadata": {},
   "outputs": [
    {
     "name": "stdout",
     "output_type": "stream",
     "text": [
      "\u001b[1mHello World !\u001b[0m\n",
      "\u001b[1mHello World !\u001b[0m\n"
     ]
    }
   ],
   "source": [
    "class color:\n",
    "    PURPLE = '\\033[95m'\n",
    "    CYAN = '\\033[96m'\n",
    "    DARKCYAN = '\\033[36m'\n",
    "    BLUE = '\\033[94m'\n",
    "    GREEN = '\\033[92m'\n",
    "    YELLOW = '\\033[93m'\n",
    "    RED = '\\033[91m'\n",
    "    BOLD = '\\033[1m'\n",
    "    UNDERLINE = '\\033[4m'\n",
    "    END = '\\033[0m'\n",
    "\n",
    "print(color.BOLD + 'Hello World !' + color.END)\n",
    "print(color.BOLD + 'Hello World !' + color.END)"
   ]
  },
  {
   "cell_type": "code",
   "execution_count": null,
   "metadata": {},
   "outputs": [],
   "source": [
    "gen_poder = input('¿cuál es el genero del poderdante?(M/F) ').lower()\n",
    "while True:\n",
    "    if gen_poder == 'm' or gen_poder == 'f' :\n",
    "        if gen_poder == 'm':\n",
    "            gen_poder = 'o'\n",
    "        elif gen_poder == 'f':\n",
    "            gen_poder = 'a'\n",
    "        break\n",
    "    print('Don´t you opress me, \\ncorrige los datos del genero del poderdante (F/M)')\n",
    "    gen_poder = input('¿cuál es el genero del poderdante?(M/F) ').lower() \n",
    "ced_poder = input('¿cuál es la cedula del poderdante?')\n",
    "ced_poder = ced_poder.replace('.','')\n",
    "while True:\n",
    "    try:\n",
    "        ced_poder = int(ced_poder) \n",
    "    except:\n",
    "        print('Corrija los datos joven, tiene que meter números')\n",
    "        continue  \n",
    "    if ced_poder < 9999999999 :\n",
    "        break\n",
    "    elif ced_apo > 9999999999 :\n",
    "        print('recuerda que la cédula se compone por máximo 10 números')\n",
    "        ced_apo = input('¿cuál es la cedula del poderdante?')\n",
    "        continue"
   ]
  },
  {
   "cell_type": "code",
   "execution_count": 4,
   "metadata": {},
   "outputs": [
    {
     "data": {
      "text/plain": [
       "True"
      ]
     },
     "execution_count": 4,
     "metadata": {},
     "output_type": "execute_result"
    }
   ],
   "source": [
    "6 < len(str(1254644)) <= 10"
   ]
  },
  {
   "cell_type": "code",
   "execution_count": 7,
   "metadata": {},
   "outputs": [
    {
     "data": {
      "text/plain": [
       "'asdasd'"
      ]
     },
     "execution_count": 7,
     "metadata": {},
     "output_type": "execute_result"
    }
   ],
   "source": [
    "'asdasd'.replace('z','j')"
   ]
  },
  {
   "cell_type": "code",
   "execution_count": 33,
   "metadata": {},
   "outputs": [],
   "source": [
    "def info_poder(parte_procesal):\n",
    "    parte = parte_procesal\n",
    "    portadore = ''\n",
    "    num_car = None\n",
    "    \n",
    "    nom_poder = input(f'Ingrese nombre(s) de {parte}\\n (Ej. José Miguel)').upper()\n",
    "    ape_poder = input(f'Ingrese los apellidos de {parte}\\n (Ej. Rondón Gordillo)').upper()\n",
    "    \n",
    "    while True:\n",
    "        email = input(f'¿Cuál es el correo electrónico de {parte} \\n').lower()\n",
    "        if '@' in email:\n",
    "            break\n",
    "        if '@' not in email:\n",
    "            print('Ingrese un correo electrónico valido (Ej. @gmail.com)')\n",
    "            continue\n",
    "    #---------------------------------------------------------------------------------------------------------------------------\n",
    "\n",
    "\n",
    "    while True:\n",
    "        gen_poder = input(f'¿cuál es el género de {parte}(M/F) \\n').lower()\n",
    "        if gen_poder == 'm' or gen_poder == 'f' :\n",
    "            if gen_poder == 'm':\n",
    "                gen_poder = 'o'\n",
    "            elif gen_poder == 'f':\n",
    "                gen_poder = 'a'\n",
    "            break\n",
    "        print(f\"Don't you opress me, \\ncorrige los datos del género de {parte} (F/M) \\n\")\n",
    "\n",
    "    #LOOP Para que no haya un número de cédula mayor a 10 digitos\n",
    "\n",
    "    while True:\n",
    "        ced_poder = input(f'¿cuál es la cedula de {parte}? \\n')\n",
    "        ced_poder = ced_poder.replace('.','').replace(\",\",\"\")\n",
    "        try:\n",
    "            ced_poder = int(ced_poder) \n",
    "        except:\n",
    "            print('Corrija los datos joven, solo debe introducir valores númericos')\n",
    "            continue\n",
    "        if 6 < len(str(ced_poder)) <= 10:\n",
    "            break\n",
    "        else:\n",
    "            print('Verifique el valor ingresado joven, recuerde que la cédula se compone por entre 6 y 10 digitos')\n",
    "            continue\n",
    "            \n",
    "    if parte_procesal == 'apoderado':\n",
    "        while True:\n",
    "            try:\n",
    "                num_car = input('¿Cuál es tu número de carné?\\n')\n",
    "                num_car = num_car.replace('.','')\n",
    "                num_car = int(num_car) \n",
    "            except:\n",
    "                print('Corrija los datos joven, sólo debe introducir valores numericos')\n",
    "                continue  \n",
    "            if num_car < 1000 :\n",
    "                break\n",
    "            elif num_car >= 1000 :\n",
    "                print('Corrija los datos joven, recuerde que el carné se compone por máximo por 3 digitos')\n",
    "                continue\n",
    "        \n",
    "        if gen_poder == 'f':\n",
    "            portadore = 'a'\n",
    "            \n",
    "    return nom_poder,ape_poder,gen_poder,ced_poder,portadore,num_car,email"
   ]
  },
  {
   "cell_type": "code",
   "execution_count": 16,
   "metadata": {},
   "outputs": [
    {
     "name": "stdout",
     "output_type": "stream",
     "text": [
      "Ingrese nombre(s) de poderdante\n",
      " (Ej. José Miguel)sdfsd ssd\n",
      "Ingrese los apellidos de poderdante\n",
      " (Ej. Rondón Gordillo)sdf ssdf\n",
      "¿Cuál es el correo electrónico de poderdante \n",
      "sdfsdf@\n",
      "¿cuál es el género de poderdante(M/F) \n",
      "m\n",
      "¿cuál es la cedula de poderdante? \n",
      "123123123\n"
     ]
    },
    {
     "data": {
      "text/plain": [
       "('SDFSD SSD', 'SDF SSDF', 'o', 123123123)"
      ]
     },
     "execution_count": 16,
     "metadata": {},
     "output_type": "execute_result"
    }
   ],
   "source": [
    "info_poder('poderdante')"
   ]
  },
  {
   "cell_type": "code",
   "execution_count": 18,
   "metadata": {},
   "outputs": [
    {
     "name": "stdout",
     "output_type": "stream",
     "text": [
      "Ingrese nombre(s) de poderdante\n",
      " (Ej. José Miguel)dasdas asdas\n",
      "Ingrese los apellidos de poderdante\n",
      " (Ej. Rondón Gordillo)asda asdasd\n",
      "¿Cuál es el correo electrónico de poderdante \n",
      "asdas d@\n",
      "¿cuál es el género de poderdante(M/F) \n",
      "m\n",
      "¿cuál es la cedula de poderdante? \n",
      "123123123\n"
     ]
    }
   ],
   "source": [
    "nom_poder,ape_poder,gen_poder,ced_poder,_,_,email = info_poder('poderdante')"
   ]
  },
  {
   "cell_type": "code",
   "execution_count": 20,
   "metadata": {},
   "outputs": [
    {
     "data": {
      "text/plain": [
       "'ASDA ASDASD'"
      ]
     },
     "execution_count": 20,
     "metadata": {},
     "output_type": "execute_result"
    }
   ],
   "source": [
    "ape_poder"
   ]
  },
  {
   "cell_type": "code",
   "execution_count": null,
   "metadata": {},
   "outputs": [],
   "source": [
    "nom_apo,ape_apo,gen_apo,ced_apo,portadore,num_car,_ = info_poder('apoderado')"
   ]
  },
  {
   "cell_type": "code",
   "execution_count": null,
   "metadata": {},
   "outputs": [],
   "source": [
    "nom_contra,ape_contra,gen_contra,ced_contra,_,_,email_2 = info_poder('contraparte')"
   ]
  },
  {
   "cell_type": "code",
   "execution_count": 34,
   "metadata": {},
   "outputs": [
    {
     "name": "stdout",
     "output_type": "stream",
     "text": [
      "Ingrese nombre(s) de poderdante\n",
      " (Ej. José Miguel)sdsdf\n",
      "Ingrese los apellidos de poderdante\n",
      " (Ej. Rondón Gordillo)fsdfsd\n",
      "¿Cuál es el correo electrónico de poderdante \n",
      "sdfsdf@\n",
      "¿cuál es el género de poderdante(M/F) \n",
      "m\n",
      "¿cuál es la cedula de poderdante? \n",
      "1234124\n",
      "Ingrese nombre(s) de apoderado\n",
      " (Ej. José Miguel)asdasd\n",
      "Ingrese los apellidos de apoderado\n",
      " (Ej. Rondón Gordillo)dasdas\n",
      "¿Cuál es el correo electrónico de apoderado \n",
      "asdasd@\n",
      "¿cuál es el género de apoderado(M/F) \n",
      "f\n",
      "¿cuál es la cedula de apoderado? \n",
      "1235454\n",
      "¿Cuál es tu número de carné?\n",
      "112\n",
      "Ingrese nombre(s) de contraparte\n",
      " (Ej. José Miguel)asdasd\n",
      "Ingrese los apellidos de contraparte\n",
      " (Ej. Rondón Gordillo)grgrg\n",
      "¿Cuál es el correo electrónico de contraparte \n",
      "deasd@\n",
      "¿cuál es el género de contraparte(M/F) \n",
      "f\n",
      "¿cuál es la cedula de contraparte? \n",
      "12312312\n",
      "SDSDF FSDFSD, mayor de edad, domiciliado en la ciudad de Bogotá D.C., \n",
      "\n",
      "identificado con cédula de ciudadanía número 1234124, y dirección de notificación electrónica sdfsdf@, \n",
      "por medio del presente escrito, otorgo PODER ESPECIAL, AMPLIO Y SUFICIENTE a ASDASD DASDAS, \n",
      "mayor de edad, domiciliada en Bogotá D.C., identificada con \n",
      "Cédula de Ciudadanía No. 1235454, miembro activo del Consultorio Jurídico de la \n",
      "Universidad Externado de Colombia, portador del carné No.112 , para que, \n",
      "en mi nombre y representación, inicie y lleve \n",
      "hasta su terminación el PROCESO DE SEPARACIÓN DE BIENES contra el señor ASDASD GRGRG, \n",
      "mayor de edad, domiciliada en Bogotá D.C., \n",
      "identificada con cédula de ciudadanía número 12312312, con dirección de notificación electrónica \n",
      "deasd@.\n",
      "Mi apoderada queda facultada para solicitar medidas cautelares, \n",
      "desistir, renunciar, sustituir, recibir, transigir, \n",
      "asumir el presente poder y demás facultades en los términos del artículo 77 del \n",
      "Código General del Proceso.\n",
      "\n",
      "Sírvase, Señor Juez, reconocerle personería jurídica a mi apoderada, en los términos y para los efectos del presente poder.\n",
      " \n",
      "Señor Juez,\n",
      "\n",
      "SDSDF FSDFSD\n",
      "C.C. No. 1234124\n",
      "\n",
      "\n",
      "Acepto, \n",
      "\n",
      "\n",
      "ASDASD DASDAS\n",
      "C.C. 1235454\n",
      "Carné No.112  del Consultorio Jurídico.\n",
      "Universidad Externado de Colombia - Sala Civil.\n",
      "\n",
      "\n",
      " \n"
     ]
    }
   ],
   "source": [
    "#portadore = ''\n",
    "\n",
    "nom_poder,ape_poder,gen_poder,ced_poder,_,_,email = info_poder('poderdante')\n",
    "nom_apo,ape_apo,gen_apo,ced_apo,portadore,num_car,_ = info_poder('apoderado')\n",
    "nom_contra,ape_contra,gen_contra,ced_contra,_,_,email_2 = info_poder('contraparte')\n",
    "\n",
    "poder =  f\"\"\"{nom_poder} {ape_poder}, mayor de edad, domiciliad{gen_poder} en la ciudad de Bogotá D.C., \n",
    "\n",
    "identificad{gen_poder} con cédula de ciudadanía número {ced_poder}, y dirección de notificación electrónica {email}, \n",
    "por medio del presente escrito, otorgo PODER ESPECIAL, AMPLIO Y SUFICIENTE a {nom_apo} {ape_apo}, \n",
    "mayor de edad, domiciliad{gen_apo} en Bogotá D.C., identificad{gen_apo} con \n",
    "Cédula de Ciudadanía No. {ced_apo}, miembro activo del Consultorio Jurídico de la \n",
    "Universidad Externado de Colombia, portador{portadore} del carné No.{num_car} , para que, \n",
    "en mi nombre y representación, inicie y lleve \n",
    "hasta su terminación el PROCESO DE SEPARACIÓN DE BIENES contra el señor {nom_contra} {ape_contra}, \n",
    "mayor de edad, domiciliad{gen_contra} en Bogotá D.C., \n",
    "identificad{gen_contra} con cédula de ciudadanía número {ced_contra}, con dirección de notificación electrónica \n",
    "{email_2}.\n",
    "Mi apoderad{gen_apo} queda facultad{gen_apo} para solicitar medidas cautelares, \n",
    "desistir, renunciar, sustituir, recibir, transigir, \n",
    "asumir el presente poder y demás facultades en los términos del artículo 77 del \n",
    "Código General del Proceso.\n",
    "\n",
    "Sírvase, Señor Juez, reconocerle personería jurídica a mi apoderad{gen_apo}, en los términos y para los efectos del presente poder.\n",
    " \n",
    "Señor Juez,\n",
    "\n",
    "{nom_poder} {ape_poder}\n",
    "C.C. No. {ced_poder}\n",
    "\n",
    "\n",
    "Acepto, \n",
    "\n",
    "\n",
    "{nom_apo} {ape_apo}\n",
    "C.C. {ced_apo}\n",
    "Carné No.{num_car}  del Consultorio Jurídico.\n",
    "Universidad Externado de Colombia - Sala Civil.\n",
    "\n",
    "\n",
    " \"\"\"\n",
    "\n",
    "print(poder)"
   ]
  },
  {
   "cell_type": "code",
   "execution_count": null,
   "metadata": {},
   "outputs": [],
   "source": []
  }
 ],
 "metadata": {
  "kernelspec": {
   "display_name": "Python 3",
   "language": "python",
   "name": "python3"
  },
  "language_info": {
   "codemirror_mode": {
    "name": "ipython",
    "version": 3
   },
   "file_extension": ".py",
   "mimetype": "text/x-python",
   "name": "python",
   "nbconvert_exporter": "python",
   "pygments_lexer": "ipython3",
   "version": "3.7.3"
  }
 },
 "nbformat": 4,
 "nbformat_minor": 4
}
